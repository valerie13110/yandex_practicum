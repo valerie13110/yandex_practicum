{
 "cells": [
  {
   "cell_type": "markdown",
   "id": "d470869d",
   "metadata": {},
   "source": [
    "# Анализ базы данных StackOverflow"
   ]
  },
  {
   "cell_type": "markdown",
   "id": "4e69b7e8",
   "metadata": {},
   "source": [
    "**Цель исследования:** Проанализировать базу данных StackOverflow — сервиса вопросов и ответов о программировании, где пользователи задают вопросы, отвечают на посты, оставляют комментарии и ставят оценки другим ответам. Проведение данного исследования позволит получить полезные инсайты о платформе StackOverflow и ее пользовательской базе, что может быть ценным для разработчиков, исследователей и специалистов в области программирования и IT-индустрии."
   ]
  },
  {
   "cell_type": "markdown",
   "id": "8050e291",
   "metadata": {},
   "source": [
    "**Задачи:** \n",
    "1. Определить количество вопросов, которые набрали больше 300 очков или как минимум 100 раз были добавлены в «Закладки».\n",
    "2. Определить, сколько в среднем в день задавали вопросов с 1 по 18 ноября 2008 включительно.\n",
    "3. Определить, сколько пользователей получили значки сразу в день регистрации.\n",
    "4. Определить, сколько уникальных постов пользователя с именем Joel Coehoorn получили хотя бы один голос.\n",
    "5. Пронумеровать записи таблицы vote_types в обратном порядке.\n",
    "6. Отобрать 10 пользователей, которые поставили больше всего голосов типа Close.\n",
    "7. Отобрать 10 пользователей по количеству значков, полученных в период с 15 ноября по 15 декабря 2008 года включительно.\n",
    "8. Определить, сколько в среднем очков получает пост каждого пользователя.\n",
    "9. Отобразить заголовки постов, которые были написаны пользователями, получившими более 1000 значков.\n",
    "10. Выгрузить данные о пользователях из США и разделить пользователей на группы.\n",
    "11. Отобразить лидеров каждой группы.\n",
    "12. Посчитать ежедневный прирост новых пользователей в ноябре 2008 года.\n",
    "13. Найти интервал между регистрацией и временем создания первого поста.\n",
    "14. Вывести общую сумму просмотров постов за каждый месяц 2008 года.\n",
    "15. Определить самых активных пользователей.\n",
    "16. Вывести количество постов за 2008 год по месяцам.\n",
    "17. Вывести сводные данные о постах.\n",
    "18. Определить, сколько в среднем дней в период с 1 по 7 декабря 2008 года включительно пользователи взаимодействовали с платформой.\n",
    "19. Определить, на сколько процентов менялось количество постов ежемесячно с 1 сентября по 31 декабря 2008 года.\n",
    "20. Выгрузить данные активности пользователя, который опубликовал больше всего постов за всё время."
   ]
  },
  {
   "cell_type": "markdown",
   "id": "ae87c433",
   "metadata": {},
   "source": [
    "**Описание данных:**\n",
    "\n",
    "**Таблица `stackoverflow.badges`**\n",
    "\n",
    "Хранит информацию о значках, которые присуждаются за разные достижения:\n",
    "\n",
    "- `id` — Идентификатор значка, первичный ключ таблицы;\n",
    "- `name` — Название значка;\n",
    "- `user_id` — Идентификатор пользователя, которому присвоили значок, внешний ключ, отсылающий к таблице users;\n",
    "- `creation_date` — Дата присвоения значка.\n",
    "\n",
    "**Таблица `stackoverflow.post_types`**\n",
    "\n",
    "Содержит информацию о типе постов:\n",
    "\n",
    "- `id` — Идентификатор типа поста, первичный ключ таблицы;\n",
    "- `type` — Тип поста.\n",
    "\n",
    "**Таблица `stackoverflow.posts`**\n",
    "\n",
    "Содержит информацию о постах:\n",
    "\n",
    "- `id` — Идентификатор поста, первичный ключ таблицы;\n",
    "- `title` — Заголовок поста;\n",
    "- `creation_date` — Дата создания поста;\n",
    "- `favorites_count` — Число, которое показывает, сколько раз пост добавили в «Закладки»;\n",
    "- `last_activity_date` — Дата последнего действия в посте, например комментария;\n",
    "- `last_edit_date` — Дата последнего изменения поста;\n",
    "- `user_id` — Идентификатор пользователя, который создал пост, внешний ключ к таблице users;\n",
    "- `parent_id` — Если пост написали в ответ на другую публикацию, в это поле попадёт идентификатор поста с вопросом;\n",
    "- `post_type_id` — Идентификатор типа поста, внешний ключ к таблице post_types;\n",
    "- `score` — Количество очков, которое набрал пост;\n",
    "- `views_count` — Количество просмотров.\n",
    "\n",
    "**Таблица `stackoverflow.users`**\n",
    "\n",
    "Содержит информацию о пользователях:\n",
    "\n",
    "- `id` — Идентификатор пользователя, первичный ключ таблицы;\n",
    "- `creation_date` — Дата регистрации пользователя;\n",
    "- `display_name` — Имя пользователя;\n",
    "- `last_access_date` — Дата последнего входа;\n",
    "- `location` — Местоположение;\n",
    "- `reputation` — Очки репутации, которые получают за хорошие вопросы и полезные ответы;\n",
    "- `views` — Число просмотров профиля пользователя.\n",
    "\n",
    "**Таблица `stackoverflow.vote_types`**\n",
    "\n",
    "Содержит информацию о типах голосов (голос — это метка, которую пользователи ставят посту):\n",
    "\n",
    "- `id` — Идентификатор типа голоса, первичный ключ;\n",
    "- `name` — Название метки.\n",
    "\n",
    "**Таблица `stackoverflow.votes`**\n",
    "\n",
    "Содержит информацию о голосах за посты:\n",
    "\n",
    "- `id` — Идентификатор голоса, первичный ключ;\n",
    "- `post_id` — Идентификатор поста, внешний ключ к таблице posts;\n",
    "- `user_id` — Идентификатор пользователя, который поставил посту голос, внешний ключ к таблице users;\n",
    "- `bounty_amount` — Сумма вознаграждения, которое назначают, чтобы привлечь внимание к посту;\n",
    "- `vote_type_id` — Идентификатор типа голоса, внешний ключ к таблице vote_types;\n",
    "- `creation_date` — Дата назначения голоса."
   ]
  },
  {
   "cell_type": "markdown",
   "id": "777562e9",
   "metadata": {},
   "source": [
    "#### 1. Определить количество вопросов, которые набрали больше 300 очков или как минимум 100 раз были добавлены в «Закладки»."
   ]
  },
  {
   "cell_type": "code",
   "execution_count": null,
   "id": "870f3b59",
   "metadata": {},
   "outputs": [],
   "source": [
    "SELECT COUNT(p.id)\n",
    "FROM stackoverflow.posts p\n",
    "JOIN stackoverflow.post_types pt ON p.post_type_id = pt.id\n",
    "WHERE pt.type = 'Question'\n",
    "AND (p.score > 300\n",
    "     OR p.favorites_count >= 100)"
   ]
  },
  {
   "cell_type": "markdown",
   "id": "ac009f4f",
   "metadata": {},
   "source": [
    "#### 2. Определить, сколько в среднем в день задавали вопросов с 1 по 18 ноября 2008 включительно."
   ]
  },
  {
   "cell_type": "code",
   "execution_count": null,
   "id": "edf4fc69",
   "metadata": {},
   "outputs": [],
   "source": [
    "SELECT ROUND(AVG(q_cnt))\n",
    "FROM\n",
    "    (SELECT p.creation_date::date AS dt,\n",
    "           COUNT(p.id) AS q_cnt\n",
    "    FROM stackoverflow.posts p\n",
    "    JOIN stackoverflow.post_types pt ON p.post_type_id = pt.id\n",
    "    WHERE pt.type = 'Question'\n",
    "    AND p.creation_date BETWEEN '2008-11-01' AND '2008-11-19'\n",
    "    GROUP BY dt) q"
   ]
  },
  {
   "cell_type": "markdown",
   "id": "7357f89d",
   "metadata": {},
   "source": [
    "#### 3. Определить, сколько пользователей получили значки сразу в день регистрации."
   ]
  },
  {
   "cell_type": "code",
   "execution_count": null,
   "id": "13960d91",
   "metadata": {},
   "outputs": [],
   "source": [
    "SELECT COUNT(DISTINCT u.id)\n",
    "FROM stackoverflow.users u\n",
    "JOIN stackoverflow.badges b ON u.id = b.user_id\n",
    "WHERE b.creation_date::date = u.creation_date::date"
   ]
  },
  {
   "cell_type": "markdown",
   "id": "b87312d1",
   "metadata": {},
   "source": [
    "#### 4. Определить количество уникальных постов пользователя с именем Joel Coehoorn, которые получили хотя бы один голос."
   ]
  },
  {
   "cell_type": "code",
   "execution_count": null,
   "id": "78ea6636",
   "metadata": {},
   "outputs": [],
   "source": [
    "SELECT COUNT(DISTINCT p.id)\n",
    "FROM stackoverflow.posts p\n",
    "JOIN stackoverflow.users u ON u.id = p.user_id\n",
    "JOIN stackoverflow.votes v ON v.post_id = p.id\n",
    "WHERE u.display_name = 'Joel Coehoorn'"
   ]
  },
  {
   "cell_type": "markdown",
   "id": "f1114d88",
   "metadata": {},
   "source": [
    "#### 5. Пронумеровать записи таблицы vote_types в обратном порядке.\n",
    "Выгрузить все поля таблицы vote_types. Добавить к таблице поле rank, в которое войдут номера записей в обратном порядке. Таблица отсортировать по полю id."
   ]
  },
  {
   "cell_type": "code",
   "execution_count": null,
   "id": "d2a74b23",
   "metadata": {},
   "outputs": [],
   "source": [
    "SELECT *,\n",
    "       ROW_NUMBER() OVER (ORDER BY id DESC) AS rank\n",
    "FROM stackoverflow.vote_types\n",
    "ORDER BY id"
   ]
  },
  {
   "cell_type": "markdown",
   "id": "66f1b255",
   "metadata": {},
   "source": [
    "#### 6. Отобрать 10 пользователей, которые поставили больше всего голосов типа Close. \n",
    "Отобразить таблицу из двух полей: идентификатор пользователя и количество голосов. Отсортировать данные сначала по убыванию количества голосов, потом по убыванию значения идентификатора пользователя."
   ]
  },
  {
   "cell_type": "code",
   "execution_count": null,
   "id": "105e8ab0",
   "metadata": {},
   "outputs": [],
   "source": [
    "SELECT u.id,\n",
    "       COUNT(v.id) AS vote_cnt\n",
    "FROM stackoverflow.users u\n",
    "JOIN stackoverflow.votes v ON v.user_id = u.id\n",
    "JOIN stackoverflow.vote_types vt ON v.vote_type_id = vt.id\n",
    "WHERE vt.name = 'Close'\n",
    "GROUP BY u.id\n",
    "ORDER BY vote_cnt DESC\n",
    "LIMIT 10"
   ]
  },
  {
   "cell_type": "markdown",
   "id": "0ab67fe4",
   "metadata": {},
   "source": [
    "#### 7. Отобрать 10 пользователей по количеству значков, полученных в период с 15 ноября по 15 декабря 2008 года включительно.\n",
    "Отобразить несколько полей:\n",
    "- идентификатор пользователя;\n",
    "- число значков;\n",
    "- место в рейтинге — чем больше значков, тем выше рейтинг.\n",
    "\n",
    "Пользователям, которые набрали одинаковое количество значков, присвоить одно и то же место в рейтинге.\n",
    "Отсортировать записи по количеству значков по убыванию, а затем по возрастанию значения идентификатора пользователя."
   ]
  },
  {
   "cell_type": "code",
   "execution_count": null,
   "id": "ddf6ba8e",
   "metadata": {},
   "outputs": [],
   "source": [
    "SELECT u.id,\n",
    "       COUNT(b.id) AS b_cnt,\n",
    "       DENSE_RANK() OVER(ORDER BY COUNT(b.id) DESC) AS rank\n",
    "FROM stackoverflow.users u\n",
    "JOIN stackoverflow.badges b ON u.id = b.user_id\n",
    "WHERE b.creation_date BETWEEN '2008-11-15' AND '2008-12-16'\n",
    "GROUP BY u.id\n",
    "ORDER BY b_cnt DESC,\n",
    "         u.id\n",
    "LIMIT 10"
   ]
  },
  {
   "cell_type": "markdown",
   "id": "0625403a",
   "metadata": {},
   "source": [
    "#### 8. Определить, сколько в среднем очков получает пост каждого пользователя.\n",
    "Сформировать таблицу из следующих полей:\n",
    "- заголовок поста;\n",
    "- идентификатор пользователя;\n",
    "- число очков поста;\n",
    "- среднее число очков пользователя за пост, округлённое до целого числа.\n",
    "\n",
    "Не учитывать посты без заголовка, а также те, что набрали ноль очков."
   ]
  },
  {
   "cell_type": "code",
   "execution_count": null,
   "id": "7341880f",
   "metadata": {},
   "outputs": [],
   "source": [
    "SELECT title,\n",
    "       user_id,\n",
    "       score,\n",
    "       ROUND(AVG(score) OVER (PARTITION BY user_id))\n",
    "FROM stackoverflow.posts\n",
    "WHERE title IS NOT NULL\n",
    "AND score <> 0"
   ]
  },
  {
   "cell_type": "markdown",
   "id": "4c20ad1c",
   "metadata": {},
   "source": [
    "#### 9. Отобразить заголовки постов, которые были написаны пользователями, получившими более 1000 значков. \n",
    "Посты без заголовков не должны попасть в список."
   ]
  },
  {
   "cell_type": "code",
   "execution_count": null,
   "id": "f05b4834",
   "metadata": {},
   "outputs": [],
   "source": [
    "SELECT title\n",
    "FROM\n",
    "    (SELECT p.title AS title,\n",
    "           COUNT(b.id) AS b_cnt\n",
    "    FROM stackoverflow.posts p\n",
    "    RIGHT JOIN stackoverflow.badges b ON p.user_id = b.user_id\n",
    "    WHERE p.title IS NOT NULL\n",
    "    GROUP BY p.title) c\n",
    "WHERE b_cnt > 1000"
   ]
  },
  {
   "cell_type": "markdown",
   "id": "9611bf34",
   "metadata": {},
   "source": [
    "#### 10. Выгрузить данные о пользователях из США и разделить пользователей на группы.\n",
    "Разделить пользователей на три группы в зависимости от количества просмотров их профилей:\n",
    "- пользователям с числом просмотров больше либо равным 350 присвоить группу 1;\n",
    "- пользователям с числом просмотров меньше 350, но больше либо равно 100 — группу 2;\n",
    "- пользователям с числом просмотров меньше 100 — группу 3.\n",
    "\n",
    "Отобразить в итоговой таблице идентификатор пользователя, количество просмотров профиля и группу. Пользователи с нулевым количеством просмотров не должны попасть в итоговую таблицу."
   ]
  },
  {
   "cell_type": "code",
   "execution_count": null,
   "id": "63ba8924",
   "metadata": {},
   "outputs": [],
   "source": [
    "SELECT u.id,\n",
    "       u.views,\n",
    "       CASE\n",
    "           WHEN views>=350 THEN 1\n",
    "           WHEN views>=100 THEN 2\n",
    "           ELSE 3\n",
    "       END AS view_group\n",
    "FROM stackoverflow.users u\n",
    "WHERE u.location LIKE '%United States%'\n",
    "AND u.views <> 0"
   ]
  },
  {
   "cell_type": "markdown",
   "id": "a5f7cdab",
   "metadata": {},
   "source": [
    "#### 11. Отобразить лидеров каждой группы.\n",
    "Дополнить предыдущий запрос. Отобразить лидеров каждой группы — пользователей, которые набрали максимальное число просмотров в своей группе. Вывести поля с идентификатором пользователя, группой и количеством просмотров. Отсортировать таблицу по убыванию просмотров, а затем по возрастанию значения идентификатора."
   ]
  },
  {
   "cell_type": "code",
   "execution_count": null,
   "id": "492addf7",
   "metadata": {},
   "outputs": [],
   "source": [
    "WITH groups AS\n",
    "    (SELECT u.id,\n",
    "           u.views,\n",
    "           CASE\n",
    "               WHEN u.views>=350 THEN 1\n",
    "               WHEN u.views>=100 THEN 2\n",
    "               ELSE 3\n",
    "           END AS view_group\n",
    "    FROM stackoverflow.users u\n",
    "    WHERE u.location LIKE '%United States%'\n",
    "    AND u.views <> 0)\n",
    "SELECT id,\n",
    "       view_group,\n",
    "       views\n",
    "FROM groups\n",
    "WHERE views IN\n",
    "    (SELECT MAX(views)\n",
    "    FROM groups\n",
    "    GROUP BY view_group)\n",
    "ORDER BY views DESC,\n",
    "         id"
   ]
  },
  {
   "cell_type": "markdown",
   "id": "328d13d6",
   "metadata": {},
   "source": [
    "#### 12. Посчитать ежедневный прирост новых пользователей в ноябре 2008 года. \n",
    "Сформировать таблицу с полями:\n",
    "- номер дня;\n",
    "- число пользователей, зарегистрированных в этот день;\n",
    "- сумму пользователей с накоплением."
   ]
  },
  {
   "cell_type": "code",
   "execution_count": null,
   "id": "daba0871",
   "metadata": {},
   "outputs": [],
   "source": [
    "WITH t AS\n",
    "    (SELECT EXTRACT(DAY FROM creation_date) AS day_number,\n",
    "           COUNT(id) AS users_cnt\n",
    "    FROM stackoverflow.users\n",
    "    WHERE creation_date BETWEEN '2008-11-01' AND '2008-12-01'\n",
    "    GROUP BY day_number\n",
    "    ORDER BY day_number)\n",
    "SELECT *,\n",
    "       SUM(users_cnt) OVER (ORDER BY day_number) AS users_sum\n",
    "FROM t"
   ]
  },
  {
   "cell_type": "markdown",
   "id": "ab830769",
   "metadata": {},
   "source": [
    "#### 13. Найти интервал между регистрацией и временем создания первого поста.\n",
    "Найти интервал между регистрацией и временем создания первого поста для каждого пользователя, который написал хотя бы один пост.\n",
    "Отобразить:\n",
    "- идентификатор пользователя;\n",
    "- разницу во времени между регистрацией и первым постом."
   ]
  },
  {
   "cell_type": "code",
   "execution_count": null,
   "id": "ae9de53d",
   "metadata": {},
   "outputs": [],
   "source": [
    "SELECT DISTINCT\n",
    "       p.user_id,\n",
    "       MIN(p.creation_date) OVER (PARTITION BY p.user_id) - u.creation_date AS time_diff\n",
    "FROM stackoverflow.posts p\n",
    "JOIN stackoverflow.users u ON p.user_id = u.id"
   ]
  },
  {
   "cell_type": "markdown",
   "id": "6cf4da66",
   "metadata": {},
   "source": [
    "#### 14. Вывести общую сумму просмотров постов за каждый месяц 2008 года. \n",
    "Если данных за какой-либо месяц в базе нет, такой месяц следует пропустить. Результат отсортировать по убыванию общего количества просмотров."
   ]
  },
  {
   "cell_type": "code",
   "execution_count": null,
   "id": "9267062c",
   "metadata": {},
   "outputs": [],
   "source": [
    "SELECT DATE_TRUNC('month', creation_date)::date AS mnth,\n",
    "       SUM(views_count) AS views\n",
    "FROM stackoverflow.posts\n",
    "GROUP BY mnth\n",
    "ORDER BY views DESC"
   ]
  },
  {
   "cell_type": "markdown",
   "id": "ed20726d",
   "metadata": {},
   "source": [
    "#### 15. Определить самых активных пользователей.\n",
    "Вывести имена самых активных пользователей, которые в первый месяц после регистрации (включая день регистрации) дали больше 100 ответов. Вопросы, которые задавали пользователи, не учитывать. Для каждого имени пользователя вывести количество уникальных значений user_id. Отсортировать результат по полю с именами в лексикографическом порядке."
   ]
  },
  {
   "cell_type": "code",
   "execution_count": null,
   "id": "1e64480f",
   "metadata": {},
   "outputs": [],
   "source": [
    "SELECT u.display_name,\n",
    "       count(DISTINCT p.user_id)\n",
    "FROM stackoverflow.posts p\n",
    "JOIN stackoverflow.post_types pt ON p.post_type_id = pt.id\n",
    "JOIN stackoverflow.users u ON p.user_id = u.id\n",
    "WHERE pt.type = 'Answer'\n",
    "  AND p.creation_date::date <= u.creation_date::date + INTERVAL '1 month'\n",
    "GROUP BY u.display_name\n",
    "HAVING COUNT(p.post_type_id) > 100\n",
    "ORDER BY u.display_name"
   ]
  },
  {
   "cell_type": "markdown",
   "id": "4e6089dd",
   "metadata": {},
   "source": [
    "#### 16. Вывести количество постов за 2008 год по месяцам. \n",
    "Отобрать посты от пользователей, которые зарегистрировались в сентябре 2008 года и сделали хотя бы один пост в декабре того же года. Отсортировать таблицу по значению месяца по убыванию."
   ]
  },
  {
   "cell_type": "code",
   "execution_count": null,
   "id": "5acbca72",
   "metadata": {},
   "outputs": [],
   "source": [
    "SELECT DATE_TRUNC('month', p.creation_date)::date AS dt,\n",
    "       COUNT(p.id)\n",
    "FROM stackoverflow.posts p\n",
    "JOIN stackoverflow.users u ON p.user_id = u.id\n",
    "WHERE u.creation_date BETWEEN '2008-09-01' AND '2008-10-01'\n",
    "  AND u.id IN\n",
    "    (SELECT DISTINCT user_id\n",
    "     FROM stackoverflow.posts\n",
    "     WHERE creation_date BETWEEN '2008-12-01' AND '2009-01-01' )\n",
    "GROUP BY dt\n",
    "ORDER BY dt DESC"
   ]
  },
  {
   "cell_type": "markdown",
   "id": "934aa732",
   "metadata": {},
   "source": [
    "#### 17. Вывести сводные данные о постах.\n",
    "Используя данные о постах, вывести несколько полей:\n",
    "- идентификатор пользователя, который написал пост;\n",
    "- дата создания поста;\n",
    "- количество просмотров у текущего поста;\n",
    "- сумму просмотров постов автора с накоплением.\n",
    "\n",
    "Данные в таблице должны быть отсортированы по возрастанию идентификаторов пользователей, а данные об одном и том же пользователе — по возрастанию даты создания поста."
   ]
  },
  {
   "cell_type": "code",
   "execution_count": null,
   "id": "aae62de6",
   "metadata": {},
   "outputs": [],
   "source": [
    "SELECT user_id,\n",
    "       creation_date,\n",
    "       views_count,\n",
    "       SUM(views_count) OVER (PARTITION BY user_id ORDER BY creation_date)\n",
    "FROM stackoverflow.posts\n",
    "ORDER BY user_id"
   ]
  },
  {
   "cell_type": "markdown",
   "id": "6c0189e4",
   "metadata": {},
   "source": [
    "#### 18. Определить, сколько в среднем дней в период с 1 по 7 декабря 2008 года включительно пользователи взаимодействовали с платформой. \n",
    "Для каждого пользователя отобрать дни, в которые он или она опубликовали хотя бы один пост. Нужно получить одно целое число."
   ]
  },
  {
   "cell_type": "code",
   "execution_count": null,
   "id": "4d10053c",
   "metadata": {},
   "outputs": [],
   "source": [
    "WITH t AS\n",
    "(SELECT user_id,\n",
    "       COUNT(DISTINCT creation_date::date) AS days_cnt\n",
    "FROM stackoverflow.posts\n",
    "WHERE creation_date BETWEEN '2008-12-01' AND '2008-12-08'\n",
    "GROUP BY user_id)\n",
    "\n",
    "SELECT ROUND(AVG(days_cnt))\n",
    "FROM t"
   ]
  },
  {
   "cell_type": "markdown",
   "id": "38249fe6",
   "metadata": {},
   "source": [
    "#### 19. Определить, на сколько процентов менялось количество постов ежемесячно с 1 сентября по 31 декабря 2008 года.\n",
    "Отобразить таблицу со следующими полями:\n",
    "- номер месяца;\n",
    "- количество постов за месяц;\n",
    "- процент, который показывает, насколько изменилось количество постов в текущем месяце по сравнению с предыдущим.\n",
    "\n",
    "Если постов стало меньше, значение процента должно быть отрицательным, если больше — положительным. Округлить значение процента до двух знаков после запятой."
   ]
  },
  {
   "cell_type": "code",
   "execution_count": null,
   "id": "6d155e75",
   "metadata": {},
   "outputs": [],
   "source": [
    "WITH t AS\n",
    "(SELECT EXTRACT(MONTH FROM creation_date) AS month_num,\n",
    "       COUNT(id) AS p_cnt\n",
    "FROM stackoverflow.posts\n",
    "WHERE creation_date BETWEEN '2008-09-01' AND '2009-01-01'\n",
    "GROUP BY month_num)\n",
    "\n",
    "SELECT *,\n",
    "       ROUND((p_cnt::numeric / LAG(p_cnt) OVER () * 100) - 100, 2) AS prcnt\n",
    "FROM t"
   ]
  },
  {
   "cell_type": "markdown",
   "id": "bfc1a82e",
   "metadata": {},
   "source": [
    "#### 20. Выгрузить данные активности пользователя, который опубликовал больше всего постов за всё время. \n",
    "Вывести данные за октябрь 2008 года в таком виде:\n",
    "- номер недели;\n",
    "- дата и время последнего поста, опубликованного на этой неделе."
   ]
  },
  {
   "cell_type": "code",
   "execution_count": null,
   "id": "b426623c",
   "metadata": {},
   "outputs": [],
   "source": [
    "SELECT DISTINCT\n",
    "       EXTRACT(WEEK FROM creation_date::date) AS week_numb,\n",
    "       MAX(creation_date) OVER (PARTITION BY EXTRACT(WEEK FROM creation_date::date))\n",
    "FROM stackoverflow.posts\n",
    "WHERE user_id IN\n",
    "    (SELECT user_id\n",
    "    FROM stackoverflow.posts\n",
    "    GROUP BY user_id\n",
    "    ORDER BY COUNT(id) DESC\n",
    "    LIMIT 1) AND\n",
    "    creation_date BETWEEN '2008-10-01' AND '2008-11-01'"
   ]
  },
  {
   "cell_type": "markdown",
   "id": "57167be9",
   "metadata": {},
   "source": [
    "## Вывод"
   ]
  },
  {
   "cell_type": "markdown",
   "id": "a83bc405",
   "metadata": {},
   "source": [
    "Анализ базы данных StackOverflow был проведен с использованием продвинутых средств SQL, таких как CASE, DISTINCT, ORDER BY, HAVING, JOIN, оконные функции, а также функции ранжирования и смещения. Эти инструменты позволили выполнить различные запросы и операции, такие как ранжирование результатов, фильтрация данных, сортировка, объединение таблиц и агрегирование информации, для получения нужных результатов и извлечения ценных показателей из базы данных."
   ]
  }
 ],
 "metadata": {
  "kernelspec": {
   "display_name": "Python 3 (ipykernel)",
   "language": "python",
   "name": "python3"
  },
  "language_info": {
   "codemirror_mode": {
    "name": "ipython",
    "version": 3
   },
   "file_extension": ".py",
   "mimetype": "text/x-python",
   "name": "python",
   "nbconvert_exporter": "python",
   "pygments_lexer": "ipython3",
   "version": "3.10.9"
  }
 },
 "nbformat": 4,
 "nbformat_minor": 5
}
